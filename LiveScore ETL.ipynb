{
 "cells": [
  {
   "cell_type": "code",
   "execution_count": 97,
   "id": "d478351a-1368-4990-854c-8dd4657f6aeb",
   "metadata": {},
   "outputs": [],
   "source": [
    "import requests\n",
    "from bs4 import BeautifulSoup\n",
    "import time"
   ]
  },
  {
   "cell_type": "code",
   "execution_count": 99,
   "id": "142d4ffe-720e-48eb-b2fe-3b703e577540",
   "metadata": {},
   "outputs": [],
   "source": [
    "def getscore():\n",
    "    i=0\n",
    "    while i<=100:  #this will loop until condition true\n",
    "        time.sleep(60)  # wait for 60 sec\n",
    "        URL=(f\"https://www.espncricinfo.com/series/duleep-trophy-2024-25-1445823/india-a-vs-india-d-3rd-match-1445834/live-cricket-score\")\n",
    "        responce=requests.get(URL)\n",
    "        soup=BeautifulSoup(responce.text,'html.parser')\n",
    "        score=soup.find('div',class_='ds-text-compact-m ds-text-typo ds-text-right ds-whitespace-nowrap').text.strip()\n",
    "        notify(score) #getting data from getscore then triger notification\n",
    "        i+=1"
   ]
  },
  {
   "cell_type": "code",
   "execution_count": 89,
   "id": "29ae6bd7-c442-413c-950b-cff221e4919c",
   "metadata": {},
   "outputs": [],
   "source": [
    "def notify(msg):\n",
    "    token='6653752665:AAGeGEqnSaraeY1dHNGjGLY-GEyyhDfCxgU'\n",
    "    chat_id='1702937489'\n",
    "    message=(f'current score is : {msg}')\n",
    "    trigger=f\"https://api.telegram.org/bot{token}/sendMessage?chat_id={chat_id}&text={message}\"\n",
    "    print(requests.get(trigger))"
   ]
  },
  {
   "cell_type": "code",
   "execution_count": null,
   "id": "cd956b4b-e254-4d9c-8099-e1bf5e440c18",
   "metadata": {},
   "outputs": [],
   "source": [
    "getscore()"
   ]
  }
 ],
 "metadata": {
  "kernelspec": {
   "display_name": "Python 3 (ipykernel)",
   "language": "python",
   "name": "python3"
  },
  "language_info": {
   "codemirror_mode": {
    "name": "ipython",
    "version": 3
   },
   "file_extension": ".py",
   "mimetype": "text/x-python",
   "name": "python",
   "nbconvert_exporter": "python",
   "pygments_lexer": "ipython3",
   "version": "3.12.4"
  }
 },
 "nbformat": 4,
 "nbformat_minor": 5
}
